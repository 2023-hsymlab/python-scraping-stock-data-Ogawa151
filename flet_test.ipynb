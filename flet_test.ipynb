{
 "cells": [
  {
   "cell_type": "code",
   "execution_count": 1,
   "metadata": {},
   "outputs": [
    {
     "name": "stdout",
     "output_type": "stream",
     "text": [
      "Collecting flet\n",
      "  Downloading flet-0.7.4-py3-none-macosx_10_14_x86_64.whl (34.0 MB)\n",
      "\u001b[2K     \u001b[90m━━━━━━━━━━━━━━━━━━━━━━━━━━━━━━━━━━━━━━━━\u001b[0m \u001b[32m34.0/34.0 MB\u001b[0m \u001b[31m4.6 MB/s\u001b[0m eta \u001b[36m0:00:00\u001b[0m00:01\u001b[0m00:01\u001b[0mm\n",
      "\u001b[?25hCollecting flet-core==0.7.4 (from flet)\n",
      "  Downloading flet_core-0.7.4-py3-none-any.whl (242 kB)\n",
      "\u001b[2K     \u001b[90m━━━━━━━━━━━━━━━━━━━━━━━━━━━━━━━━━━━━━━━\u001b[0m \u001b[32m242.2/242.2 kB\u001b[0m \u001b[31m8.6 MB/s\u001b[0m eta \u001b[36m0:00:00\u001b[0m\n",
      "\u001b[?25hCollecting httpx<0.24.0,>=0.23.3 (from flet)\n",
      "  Downloading httpx-0.23.3-py3-none-any.whl (71 kB)\n",
      "\u001b[2K     \u001b[90m━━━━━━━━━━━━━━━━━━━━━━━━━━━━━━━━━━━━━━━━\u001b[0m \u001b[32m71.5/71.5 kB\u001b[0m \u001b[31m2.1 MB/s\u001b[0m eta \u001b[36m0:00:00\u001b[0m\n",
      "\u001b[?25hCollecting oauthlib<4.0.0,>=3.2.2 (from flet)\n",
      "  Downloading oauthlib-3.2.2-py3-none-any.whl (151 kB)\n",
      "\u001b[2K     \u001b[90m━━━━━━━━━━━━━━━━━━━━━━━━━━━━━━━━━━━━━━━\u001b[0m \u001b[32m151.7/151.7 kB\u001b[0m \u001b[31m5.8 MB/s\u001b[0m eta \u001b[36m0:00:00\u001b[0m\n",
      "\u001b[?25hCollecting packaging<24.0,>=23.0 (from flet)\n",
      "  Using cached packaging-23.1-py3-none-any.whl (48 kB)\n",
      "Collecting watchdog<3.0.0,>=2.2.1 (from flet)\n",
      "  Downloading watchdog-2.3.1-cp38-cp38-macosx_10_9_x86_64.whl (89 kB)\n",
      "\u001b[2K     \u001b[90m━━━━━━━━━━━━━━━━━━━━━━━━━━━━━━━━━━━━━━━━\u001b[0m \u001b[32m89.8/89.8 kB\u001b[0m \u001b[31m3.1 MB/s\u001b[0m eta \u001b[36m0:00:00\u001b[0m\n",
      "\u001b[?25hCollecting websocket-client<2.0.0,>=1.4.2 (from flet)\n",
      "  Downloading websocket_client-1.6.1-py3-none-any.whl (56 kB)\n",
      "\u001b[2K     \u001b[90m━━━━━━━━━━━━━━━━━━━━━━━━━━━━━━━━━━━━━━━━\u001b[0m \u001b[32m56.9/56.9 kB\u001b[0m \u001b[31m1.8 MB/s\u001b[0m eta \u001b[36m0:00:00\u001b[0m\n",
      "\u001b[?25hCollecting websockets<11.0,>=10.4 (from flet)\n",
      "  Downloading websockets-10.4-cp38-cp38-macosx_10_9_x86_64.whl (97 kB)\n",
      "\u001b[2K     \u001b[90m━━━━━━━━━━━━━━━━━━━━━━━━━━━━━━━━━━━━━━━━\u001b[0m \u001b[32m97.9/97.9 kB\u001b[0m \u001b[31m3.3 MB/s\u001b[0m eta \u001b[36m0:00:00\u001b[0m\n",
      "\u001b[?25hCollecting repath<0.10.0,>=0.9.0 (from flet-core==0.7.4->flet)\n",
      "  Downloading repath-0.9.0-py3-none-any.whl (4.7 kB)\n",
      "Requirement already satisfied: certifi in /opt/anaconda3/lib/python3.8/site-packages (from httpx<0.24.0,>=0.23.3->flet) (2020.6.20)\n",
      "Collecting httpcore<0.17.0,>=0.15.0 (from httpx<0.24.0,>=0.23.3->flet)\n",
      "  Downloading httpcore-0.16.3-py3-none-any.whl (69 kB)\n",
      "\u001b[2K     \u001b[90m━━━━━━━━━━━━━━━━━━━━━━━━━━━━━━━━━━━━━━━━\u001b[0m \u001b[32m69.6/69.6 kB\u001b[0m \u001b[31m1.9 MB/s\u001b[0m eta \u001b[36m0:00:00\u001b[0m\n",
      "\u001b[?25hCollecting rfc3986[idna2008]<2,>=1.3 (from httpx<0.24.0,>=0.23.3->flet)\n",
      "  Downloading rfc3986-1.5.0-py2.py3-none-any.whl (31 kB)\n",
      "Collecting sniffio (from httpx<0.24.0,>=0.23.3->flet)\n",
      "  Downloading sniffio-1.3.0-py3-none-any.whl (10 kB)\n",
      "Collecting h11<0.15,>=0.13 (from httpcore<0.17.0,>=0.15.0->httpx<0.24.0,>=0.23.3->flet)\n",
      "  Downloading h11-0.14.0-py3-none-any.whl (58 kB)\n",
      "\u001b[2K     \u001b[90m━━━━━━━━━━━━━━━━━━━━━━━━━━━━━━━━━━━━━━━━\u001b[0m \u001b[32m58.3/58.3 kB\u001b[0m \u001b[31m1.9 MB/s\u001b[0m eta \u001b[36m0:00:00\u001b[0m\n",
      "\u001b[?25hCollecting anyio<5.0,>=3.0 (from httpcore<0.17.0,>=0.15.0->httpx<0.24.0,>=0.23.3->flet)\n",
      "  Downloading anyio-3.7.0-py3-none-any.whl (80 kB)\n",
      "\u001b[2K     \u001b[90m━━━━━━━━━━━━━━━━━━━━━━━━━━━━━━━━━━━━━━━━\u001b[0m \u001b[32m80.9/80.9 kB\u001b[0m \u001b[31m2.8 MB/s\u001b[0m eta \u001b[36m0:00:00\u001b[0m\n",
      "\u001b[?25hRequirement already satisfied: six>=1.9.0 in /opt/anaconda3/lib/python3.8/site-packages (from repath<0.10.0,>=0.9.0->flet-core==0.7.4->flet) (1.15.0)\n",
      "Requirement already satisfied: idna in /opt/anaconda3/lib/python3.8/site-packages (from rfc3986[idna2008]<2,>=1.3->httpx<0.24.0,>=0.23.3->flet) (2.10)\n",
      "Collecting exceptiongroup (from anyio<5.0,>=3.0->httpcore<0.17.0,>=0.15.0->httpx<0.24.0,>=0.23.3->flet)\n",
      "  Downloading exceptiongroup-1.1.1-py3-none-any.whl (14 kB)\n",
      "Installing collected packages: rfc3986, websockets, websocket-client, watchdog, sniffio, repath, packaging, oauthlib, h11, exceptiongroup, flet-core, anyio, httpcore, httpx, flet\n",
      "  Attempting uninstall: watchdog\n",
      "    Found existing installation: watchdog 0.10.3\n",
      "    Uninstalling watchdog-0.10.3:\n",
      "      Successfully uninstalled watchdog-0.10.3\n",
      "  Attempting uninstall: packaging\n",
      "    Found existing installation: packaging 20.4\n",
      "    Uninstalling packaging-20.4:\n",
      "      Successfully uninstalled packaging-20.4\n",
      "\u001b[31mERROR: pip's dependency resolver does not currently take into account all the packages that are installed. This behaviour is the source of the following dependency conflicts.\n",
      "spyder 4.1.5 requires pyqt5<5.13; python_version >= \"3\", which is not installed.\n",
      "spyder 4.1.5 requires pyqtwebengine<5.13; python_version >= \"3\", which is not installed.\u001b[0m\u001b[31m\n",
      "\u001b[0mSuccessfully installed anyio-3.7.0 exceptiongroup-1.1.1 flet-0.7.4 flet-core-0.7.4 h11-0.14.0 httpcore-0.16.3 httpx-0.23.3 oauthlib-3.2.2 packaging-23.1 repath-0.9.0 rfc3986-1.5.0 sniffio-1.3.0 watchdog-2.3.1 websocket-client-1.6.1 websockets-10.4\n",
      "Note: you may need to restart the kernel to use updated packages.\n"
     ]
    }
   ],
   "source": [
    "%pip install flet"
   ]
  },
  {
   "cell_type": "code",
   "execution_count": 2,
   "metadata": {},
   "outputs": [
    {
     "name": "stderr",
     "output_type": "stream",
     "text": [
      "Exception in thread Thread-3:\n",
      "Traceback (most recent call last):\n",
      "  File \"/opt/anaconda3/lib/python3.8/threading.py\", line 932, in _bootstrap_inner\n",
      "    self.run()\n",
      "  File \"/opt/anaconda3/lib/python3.8/threading.py\", line 870, in run\n",
      "    self._target(*self._args, **self._kwargs)\n",
      "  File \"/opt/anaconda3/lib/python3.8/site-packages/flet/sync_local_socket_connection.py\", line 143, in __connection_loop\n",
      "    self.__connection, client_address = self.__sock.accept()\n",
      "  File \"/opt/anaconda3/lib/python3.8/socket.py\", line 292, in accept\n",
      "    fd, addr = self._accept()\n",
      "ConnectionAbortedError: [Errno 53] Software caused connection abort\n"
     ]
    }
   ],
   "source": [
    "import flet as ft\n",
    "\n",
    "def main(page: ft.Page):\n",
    "    page.title = \"Flet counter example\"\n",
    "    page.vertical_alignment = ft.MainAxisAlignment.CENTER\n",
    "\n",
    "    txt_number = ft.TextField(value=\"0\", text_align=ft.TextAlign.RIGHT, width=100)\n",
    "\n",
    "    def minus_click(e):\n",
    "        txt_number.value = str(int(txt_number.value) - 1)\n",
    "        page.update()\n",
    "\n",
    "    def plus_click(e):\n",
    "        txt_number.value = str(int(txt_number.value) + 1)\n",
    "        page.update()\n",
    "\n",
    "    page.add(\n",
    "        ft.Row(\n",
    "            [\n",
    "                ft.IconButton(ft.icons.REMOVE, on_click=minus_click),\n",
    "                txt_number,\n",
    "                ft.IconButton(ft.icons.ADD, on_click=plus_click),\n",
    "            ],\n",
    "            alignment=ft.MainAxisAlignment.CENTER,\n",
    "        )\n",
    "    )\n",
    "\n",
    "ft.app(target=main)"
   ]
  },
  {
   "cell_type": "code",
   "execution_count": 3,
   "metadata": {},
   "outputs": [
    {
     "ename": "SyntaxError",
     "evalue": "invalid syntax (<ipython-input-3-c399a15ca0d2>, line 7)",
     "output_type": "error",
     "traceback": [
      "\u001b[0;36m  File \u001b[0;32m\"<ipython-input-3-c399a15ca0d2>\"\u001b[0;36m, line \u001b[0;32m7\u001b[0m\n\u001b[0;31m    ft.ElevatedButton(content=text, on_click=lambda _: print('clickされたよ'))\u001b[0m\n\u001b[0m    ^\u001b[0m\n\u001b[0;31mSyntaxError\u001b[0m\u001b[0;31m:\u001b[0m invalid syntax\n"
     ]
    }
   ],
   "source": [
    "import flet as ft\n",
    "\n",
    "def home():\n",
    "    #このようにControl内に他のControlを入れる事が出来る。\n",
    "    return ft.View(\"/home\", [\n",
    "        ft.Text('click')\n",
    "        ft.ElevatedButton(content=text, on_click=lambda _: print('clickされたよ'))\n",
    "    ])\n",
    "\n",
    "def main(page: ft.Page):\n",
    "    # レイアウト\n",
    "    page.title = \"Navigation and routing\"\n",
    "    page.window_width = 1000\n",
    "    page.window_height = 800\n",
    "\n",
    "    # 初期表示\n",
    "    page.view.append(home())#ホーム画面(view)を表示\n",
    "\n",
    "ft.app(target=main)"
   ]
  },
  {
   "cell_type": "code",
   "execution_count": 4,
   "metadata": {},
   "outputs": [],
   "source": [
    "import flet \n",
    "from flet import Page, Text\n",
    "\n",
    "def main(page: Page):\n",
    "\tpage.add(Text(value=\"こんにちは、世界！\"))\n",
    "\n",
    "flet.app(target=main)"
   ]
  }
 ],
 "metadata": {
  "interpreter": {
   "hash": "40d3a090f54c6569ab1632332b64b2c03c39dcf918b08424e98f38b5ae0af88f"
  },
  "kernelspec": {
   "display_name": "Python 3.8.5 ('base')",
   "language": "python",
   "name": "python3"
  },
  "language_info": {
   "codemirror_mode": {
    "name": "ipython",
    "version": 3
   },
   "file_extension": ".py",
   "mimetype": "text/x-python",
   "name": "python",
   "nbconvert_exporter": "python",
   "pygments_lexer": "ipython3",
   "version": "3.8.5"
  },
  "orig_nbformat": 4
 },
 "nbformat": 4,
 "nbformat_minor": 2
}
