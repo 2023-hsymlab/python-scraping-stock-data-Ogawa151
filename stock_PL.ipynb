{
 "cells": [
  {
   "cell_type": "code",
   "execution_count": 13,
   "metadata": {},
   "outputs": [
    {
     "ename": "UFuncTypeError",
     "evalue": "ufunc 'add' did not contain a loop with signature matching types (dtype('<U21'), dtype('<U21')) -> dtype('<U21')",
     "output_type": "error",
     "traceback": [
      "\u001b[0;31m---------------------------------------------------------------------------\u001b[0m",
      "\u001b[0;31mUFuncTypeError\u001b[0m                            Traceback (most recent call last)",
      "\u001b[0;32m<ipython-input-13-799be9eb174a>\u001b[0m in \u001b[0;36m<module>\u001b[0;34m\u001b[0m\n\u001b[1;32m     44\u001b[0m \u001b[0;34m\u001b[0m\u001b[0m\n\u001b[1;32m     45\u001b[0m \u001b[0mdf1\u001b[0m \u001b[0;34m=\u001b[0m \u001b[0mpd\u001b[0m\u001b[0;34m.\u001b[0m\u001b[0mread_csv\u001b[0m\u001b[0;34m(\u001b[0m\u001b[0;34m'stock_purchase_data.csv'\u001b[0m\u001b[0;34m,\u001b[0m \u001b[0mheader\u001b[0m\u001b[0;34m=\u001b[0m\u001b[0;36m0\u001b[0m\u001b[0;34m)\u001b[0m\u001b[0;34m\u001b[0m\u001b[0;34m\u001b[0m\u001b[0m\n\u001b[0;32m---> 46\u001b[0;31m \u001b[0mstock_pl\u001b[0m\u001b[0;34m(\u001b[0m\u001b[0mdf1\u001b[0m\u001b[0;34m)\u001b[0m\u001b[0;34m\u001b[0m\u001b[0;34m\u001b[0m\u001b[0m\n\u001b[0m",
      "\u001b[0;32m<ipython-input-13-799be9eb174a>\u001b[0m in \u001b[0;36mstock_pl\u001b[0;34m(df_purchase)\u001b[0m\n\u001b[1;32m     33\u001b[0m     \u001b[0;31m#df_purchase_pl.loc['sum'] = #\u001b[0m\u001b[0;34m\u001b[0m\u001b[0;34m\u001b[0m\u001b[0;34m\u001b[0m\u001b[0m\n\u001b[1;32m     34\u001b[0m     \u001b[0;32mfor\u001b[0m \u001b[0mi\u001b[0m \u001b[0;32min\u001b[0m \u001b[0mrange\u001b[0m\u001b[0;34m(\u001b[0m\u001b[0mlen\u001b[0m\u001b[0;34m(\u001b[0m\u001b[0mdf_purchase\u001b[0m\u001b[0;34m)\u001b[0m\u001b[0;34m)\u001b[0m\u001b[0;34m:\u001b[0m\u001b[0;34m\u001b[0m\u001b[0;34m\u001b[0m\u001b[0m\n\u001b[0;32m---> 35\u001b[0;31m         \u001b[0mdf_purchase_buy2yest\u001b[0m \u001b[0;34m=\u001b[0m \u001b[0mdata\u001b[0m\u001b[0;34m.\u001b[0m\u001b[0mDataReader\u001b[0m\u001b[0;34m(\u001b[0m\u001b[0mdf_purchase\u001b[0m\u001b[0;34m[\u001b[0m\u001b[0;34m'Code'\u001b[0m\u001b[0;34m]\u001b[0m\u001b[0;34m[\u001b[0m\u001b[0mi\u001b[0m\u001b[0;34m]\u001b[0m \u001b[0;34m+\u001b[0m \u001b[0;34m'.JP'\u001b[0m\u001b[0;34m,\u001b[0m \u001b[0;34m'stooq'\u001b[0m\u001b[0;34m,\u001b[0m \u001b[0mdatetime\u001b[0m\u001b[0;34m.\u001b[0m\u001b[0mdatetime\u001b[0m\u001b[0;34m.\u001b[0m\u001b[0mstrptime\u001b[0m\u001b[0;34m(\u001b[0m\u001b[0mdf_purchase\u001b[0m\u001b[0;34m[\u001b[0m\u001b[0;34m'Date'\u001b[0m\u001b[0;34m]\u001b[0m\u001b[0;34m[\u001b[0m\u001b[0mi\u001b[0m\u001b[0;34m]\u001b[0m\u001b[0;34m,\u001b[0m \u001b[0;34m\"%Y-%m-%d\"\u001b[0m\u001b[0;34m)\u001b[0m\u001b[0;34m,\u001b[0m \u001b[0mn_bizdays_ago\u001b[0m\u001b[0;34m(\u001b[0m\u001b[0;36m1\u001b[0m\u001b[0;34m)\u001b[0m\u001b[0;34m)\u001b[0m\u001b[0;34m\u001b[0m\u001b[0;34m\u001b[0m\u001b[0m\n\u001b[0m\u001b[1;32m     36\u001b[0m         \u001b[0mdf_purchase_pl\u001b[0m\u001b[0;34m[\u001b[0m\u001b[0;34m'buy'\u001b[0m\u001b[0;34m]\u001b[0m\u001b[0;34m[\u001b[0m\u001b[0mi\u001b[0m\u001b[0;34m]\u001b[0m \u001b[0;34m=\u001b[0m \u001b[0mdf_purchase_buy2yest\u001b[0m\u001b[0;34m[\u001b[0m\u001b[0;34m'Close'\u001b[0m\u001b[0;34m]\u001b[0m\u001b[0;34m[\u001b[0m\u001b[0;36m0\u001b[0m\u001b[0;34m]\u001b[0m \u001b[0;34m*\u001b[0m \u001b[0mdf_purchase_pl\u001b[0m\u001b[0;34m[\u001b[0m\u001b[0;34m'Amount'\u001b[0m\u001b[0;34m]\u001b[0m\u001b[0;34m[\u001b[0m\u001b[0mi\u001b[0m\u001b[0;34m]\u001b[0m\u001b[0;34m\u001b[0m\u001b[0;34m\u001b[0m\u001b[0m\n\u001b[1;32m     37\u001b[0m         \u001b[0mdf_purchase_pl\u001b[0m\u001b[0;34m[\u001b[0m\u001b[0;34m'yesterday'\u001b[0m\u001b[0;34m]\u001b[0m\u001b[0;34m[\u001b[0m\u001b[0mi\u001b[0m\u001b[0;34m]\u001b[0m \u001b[0;34m=\u001b[0m \u001b[0mdf_purchase_buy2yest\u001b[0m\u001b[0;34m.\u001b[0m\u001b[0miloc\u001b[0m\u001b[0;34m[\u001b[0m\u001b[0;34m-\u001b[0m\u001b[0;36m1\u001b[0m\u001b[0;34m]\u001b[0m\u001b[0;34m[\u001b[0m\u001b[0;34m'Close'\u001b[0m\u001b[0;34m]\u001b[0m \u001b[0;34m*\u001b[0m \u001b[0mdf_purchase_pl\u001b[0m\u001b[0;34m[\u001b[0m\u001b[0;34m'Amount'\u001b[0m\u001b[0;34m]\u001b[0m\u001b[0;34m[\u001b[0m\u001b[0mi\u001b[0m\u001b[0;34m]\u001b[0m\u001b[0;34m\u001b[0m\u001b[0;34m\u001b[0m\u001b[0m\n",
      "\u001b[0;31mUFuncTypeError\u001b[0m: ufunc 'add' did not contain a loop with signature matching types (dtype('<U21'), dtype('<U21')) -> dtype('<U21')"
     ]
    }
   ],
   "source": [
    "from pandas_datareader import data\n",
    "import datetime\n",
    "from datetime import timedelta\n",
    "import jpholiday\n",
    "import operator\n",
    "import pandas as pd\n",
    "\n",
    "#ref. : https://qiita.com/hid_tanabe/items/3c5e6e85c6c65f7b38be\n",
    "def isBizDay(DATE):\n",
    "    Date = datetime.date(int(DATE.year), int(DATE.month), int(DATE.day))\n",
    "    if Date.weekday() >= 5 or jpholiday.is_holiday(Date):\n",
    "        return 0\n",
    "    else:\n",
    "        return 1\n",
    "\n",
    "def n_bizdays_ago(n): #n営業日前を出す\n",
    "    today = datetime.datetime.now()\n",
    "    i = n\n",
    "    while True:\n",
    "        if isBizDay(today - timedelta(i)): #n日前が平日になるまで遡る\n",
    "            n_bizdays = today - timedelta(i)\n",
    "            break\n",
    "        else:\n",
    "            i+=1\n",
    "    return n_bizdays\n",
    "\n",
    "def stock_pl(df_purchase): #買った日付、買った銘柄（証券コード）,買った数　の列を含むdf\n",
    "    pl_sum = 0\n",
    "    df_purchase_pl = df_purchase #損益用に新しいdf\n",
    "    df_purchase_pl['buy'] = 0 #買った日の終値いくら　列追加\n",
    "    df_purchase_pl['yesterday'] = 0 #昨日の終値いくら　列追加\n",
    "    df_purchase_pl['P/L'] = 0 #昨日の終値時点での損益いくら　列追加\n",
    "    #df_purchase_pl.loc['sum'] = #\n",
    "    for i in range(len(df_purchase)):\n",
    "        df_purchase_buy2yest = data.DataReader(df_purchase['Code'][i] + '.JP', 'stooq', datetime.datetime.strptime(df_purchase['Date'][i], \"%Y-%m-%d\"), n_bizdays_ago(1))\n",
    "        df_purchase_pl['buy'][i] = df_purchase_buy2yest['Close'][0] * df_purchase_pl['Amount'][i]\n",
    "        df_purchase_pl['yesterday'][i] = df_purchase_buy2yest.iloc[-1]['Close'] * df_purchase_pl['Amount'][i]\n",
    "        df_purchase_pl['P/L'][i] = df_purchase_pl['yesterday'][i] - df_purchase_pl['buy'][i]\n",
    "        pl_sum += df_purchase_pl['P/L'][i]\n",
    "\n",
    "    print(df_purchase_pl)\n",
    "    print(pl_sum)\n",
    "\n",
    "\n",
    "df1 = pd.read_csv('stock_purchase_data.csv', header=0)\n",
    "stock_pl(df1)\n"
   ]
  },
  {
   "cell_type": "code",
   "execution_count": 11,
   "metadata": {},
   "outputs": [
    {
     "name": "stdout",
     "output_type": "stream",
     "text": [
      "         Date  Code  Amount\n",
      "0  2023-05-15  7751     200\n",
      "1  2023-05-15  9021     100\n",
      "2  2023-05-15  9020     100\n",
      "3  2023-05-15  7974     200\n",
      "2023-05-15\n",
      "3    7974\n",
      "Name: Code, dtype: int64\n",
      "7974\n",
      "4\n"
     ]
    }
   ],
   "source": [
    "from pandas_datareader import data\n",
    "import datetime\n",
    "from datetime import timedelta\n",
    "import pandas as pd\n",
    "\n",
    "df1 = pd.read_csv('stock_purchase_data.csv', header=0)\n",
    "#df1.set_index(['Date'])\n",
    "print(df1)\n",
    "print(df1['Date'][0])\n",
    "print(df1.tail(1)['Code'])\n",
    "print(df1.iloc[-1]['Code'])\n",
    "print(len(df1))\n"
   ]
  }
 ],
 "metadata": {
  "interpreter": {
   "hash": "40d3a090f54c6569ab1632332b64b2c03c39dcf918b08424e98f38b5ae0af88f"
  },
  "kernelspec": {
   "display_name": "Python 3.8.5 ('base')",
   "language": "python",
   "name": "python3"
  },
  "language_info": {
   "codemirror_mode": {
    "name": "ipython",
    "version": 3
   },
   "file_extension": ".py",
   "mimetype": "text/x-python",
   "name": "python",
   "nbconvert_exporter": "python",
   "pygments_lexer": "ipython3",
   "version": "3.8.5"
  },
  "orig_nbformat": 4
 },
 "nbformat": 4,
 "nbformat_minor": 2
}
