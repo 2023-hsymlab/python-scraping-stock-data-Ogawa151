{
  "cells": [
    {
      "cell_type": "markdown",
      "metadata": {
        "colab_type": "text",
        "id": "view-in-github"
      },
      "source": [
        "<a href=\"https://colab.research.google.com/github/hsym-uec/myWeb_github/blob/main/Simmple_Stock.ipynb\" target=\"_parent\"><img src=\"https://colab.research.google.com/assets/colab-badge.svg\" alt=\"Open In Colab\"/></a>"
      ]
    },
    {
      "cell_type": "markdown",
      "metadata": {},
      "source": [
        "<a href=\"https://colab.research.google.com/github/hsym-uec/myWeb_github/blob/stock_test1/Simmple_Stock_copy.ipynb\" target=\"_parent\"><img src=\"https://colab.research.google.com/assets/colab-badge.svg\" alt=\"Open In Colab\"/></a>"
      ]
    },
    {
      "cell_type": "code",
      "execution_count": 1,
      "metadata": {
        "id": "iu7dBOESS_HT"
      },
      "outputs": [],
      "source": [
        "# SoftBank Stock data from Stooq.com \n",
        "# reference https://seanmemo.com/234/\n",
        "\n",
        "from pandas_datareader import data\n",
        "start = '2023-04-01'\n",
        "end = '2023-04-18'\n",
        "df = data.DataReader('9984.JP', 'stooq', start, end)\n"
      ]
    },
    {
      "cell_type": "code",
      "execution_count": 2,
      "metadata": {
        "colab": {
          "base_uri": "https://localhost:8080/",
          "height": 269
        },
        "id": "X1ZMmhe8VDaN",
        "outputId": "a1e65cdb-d5aa-4fbc-fc4d-d1b9db6aaafa"
      },
      "outputs": [
        {
          "data": {
            "text/html": [
              "<div>\n",
              "<style scoped>\n",
              "    .dataframe tbody tr th:only-of-type {\n",
              "        vertical-align: middle;\n",
              "    }\n",
              "\n",
              "    .dataframe tbody tr th {\n",
              "        vertical-align: top;\n",
              "    }\n",
              "\n",
              "    .dataframe thead th {\n",
              "        text-align: right;\n",
              "    }\n",
              "</style>\n",
              "<table border=\"1\" class=\"dataframe\">\n",
              "  <thead>\n",
              "    <tr style=\"text-align: right;\">\n",
              "      <th></th>\n",
              "      <th>Open</th>\n",
              "      <th>High</th>\n",
              "      <th>Low</th>\n",
              "      <th>Close</th>\n",
              "      <th>Volume</th>\n",
              "    </tr>\n",
              "    <tr>\n",
              "      <th>Date</th>\n",
              "      <th></th>\n",
              "      <th></th>\n",
              "      <th></th>\n",
              "      <th></th>\n",
              "      <th></th>\n",
              "    </tr>\n",
              "  </thead>\n",
              "  <tbody>\n",
              "    <tr>\n",
              "      <th>2023-04-18</th>\n",
              "      <td>5150</td>\n",
              "      <td>5214</td>\n",
              "      <td>5148</td>\n",
              "      <td>5186</td>\n",
              "      <td>6534000</td>\n",
              "    </tr>\n",
              "    <tr>\n",
              "      <th>2023-04-17</th>\n",
              "      <td>5120</td>\n",
              "      <td>5178</td>\n",
              "      <td>5120</td>\n",
              "      <td>5173</td>\n",
              "      <td>6198700</td>\n",
              "    </tr>\n",
              "    <tr>\n",
              "      <th>2023-04-14</th>\n",
              "      <td>5228</td>\n",
              "      <td>5229</td>\n",
              "      <td>5091</td>\n",
              "      <td>5120</td>\n",
              "      <td>11312800</td>\n",
              "    </tr>\n",
              "    <tr>\n",
              "      <th>2023-04-13</th>\n",
              "      <td>5145</td>\n",
              "      <td>5273</td>\n",
              "      <td>5121</td>\n",
              "      <td>5128</td>\n",
              "      <td>10389800</td>\n",
              "    </tr>\n",
              "    <tr>\n",
              "      <th>2023-04-12</th>\n",
              "      <td>5223</td>\n",
              "      <td>5311</td>\n",
              "      <td>5171</td>\n",
              "      <td>5178</td>\n",
              "      <td>9752200</td>\n",
              "    </tr>\n",
              "    <tr>\n",
              "      <th>2023-04-11</th>\n",
              "      <td>5139</td>\n",
              "      <td>5155</td>\n",
              "      <td>5102</td>\n",
              "      <td>5102</td>\n",
              "      <td>6772200</td>\n",
              "    </tr>\n",
              "    <tr>\n",
              "      <th>2023-04-10</th>\n",
              "      <td>5189</td>\n",
              "      <td>5190</td>\n",
              "      <td>5084</td>\n",
              "      <td>5100</td>\n",
              "      <td>7831400</td>\n",
              "    </tr>\n",
              "    <tr>\n",
              "      <th>2023-04-07</th>\n",
              "      <td>5230</td>\n",
              "      <td>5257</td>\n",
              "      <td>5146</td>\n",
              "      <td>5169</td>\n",
              "      <td>7031900</td>\n",
              "    </tr>\n",
              "    <tr>\n",
              "      <th>2023-04-06</th>\n",
              "      <td>5189</td>\n",
              "      <td>5245</td>\n",
              "      <td>5147</td>\n",
              "      <td>5228</td>\n",
              "      <td>9276900</td>\n",
              "    </tr>\n",
              "    <tr>\n",
              "      <th>2023-04-05</th>\n",
              "      <td>5261</td>\n",
              "      <td>5315</td>\n",
              "      <td>5193</td>\n",
              "      <td>5213</td>\n",
              "      <td>10338500</td>\n",
              "    </tr>\n",
              "    <tr>\n",
              "      <th>2023-04-04</th>\n",
              "      <td>5210</td>\n",
              "      <td>5254</td>\n",
              "      <td>5168</td>\n",
              "      <td>5244</td>\n",
              "      <td>8109900</td>\n",
              "    </tr>\n",
              "    <tr>\n",
              "      <th>2023-04-03</th>\n",
              "      <td>5260</td>\n",
              "      <td>5278</td>\n",
              "      <td>5194</td>\n",
              "      <td>5218</td>\n",
              "      <td>9469300</td>\n",
              "    </tr>\n",
              "  </tbody>\n",
              "</table>\n",
              "</div>"
            ],
            "text/plain": [
              "            Open  High   Low  Close    Volume\n",
              "Date                                         \n",
              "2023-04-18  5150  5214  5148   5186   6534000\n",
              "2023-04-17  5120  5178  5120   5173   6198700\n",
              "2023-04-14  5228  5229  5091   5120  11312800\n",
              "2023-04-13  5145  5273  5121   5128  10389800\n",
              "2023-04-12  5223  5311  5171   5178   9752200\n",
              "2023-04-11  5139  5155  5102   5102   6772200\n",
              "2023-04-10  5189  5190  5084   5100   7831400\n",
              "2023-04-07  5230  5257  5146   5169   7031900\n",
              "2023-04-06  5189  5245  5147   5228   9276900\n",
              "2023-04-05  5261  5315  5193   5213  10338500\n",
              "2023-04-04  5210  5254  5168   5244   8109900\n",
              "2023-04-03  5260  5278  5194   5218   9469300"
            ]
          },
          "execution_count": 2,
          "metadata": {},
          "output_type": "execute_result"
        }
      ],
      "source": [
        "df"
      ]
    },
    {
      "cell_type": "code",
      "execution_count": 1,
      "metadata": {},
      "outputs": [
        {
          "name": "stdout",
          "output_type": "stream",
          "text": [
            "1\n"
          ]
        },
        {
          "data": {
            "text/html": [
              "<div>\n",
              "<style scoped>\n",
              "    .dataframe tbody tr th:only-of-type {\n",
              "        vertical-align: middle;\n",
              "    }\n",
              "\n",
              "    .dataframe tbody tr th {\n",
              "        vertical-align: top;\n",
              "    }\n",
              "\n",
              "    .dataframe thead th {\n",
              "        text-align: right;\n",
              "    }\n",
              "</style>\n",
              "<table border=\"1\" class=\"dataframe\">\n",
              "  <thead>\n",
              "    <tr style=\"text-align: right;\">\n",
              "      <th></th>\n",
              "    </tr>\n",
              "    <tr>\n",
              "      <th>No data</th>\n",
              "    </tr>\n",
              "  </thead>\n",
              "  <tbody>\n",
              "  </tbody>\n",
              "</table>\n",
              "</div>"
            ],
            "text/plain": [
              "Empty DataFrame\n",
              "Columns: []\n",
              "Index: []"
            ]
          },
          "execution_count": 1,
          "metadata": {},
          "output_type": "execute_result"
        }
      ],
      "source": [
        "from pandas_datareader import data\n",
        "import datetime\n",
        "from datetime import timedelta\n",
        "import jpholiday\n",
        "import operator\n",
        "import pandas as pd\n",
        "\n",
        "#ref. : https://qiita.com/hid_tanabe/items/3c5e6e85c6c65f7b38be\n",
        "def isBizDay(DATE):\n",
        "    Date = datetime.date(int(DATE.year), int(DATE.month), int(DATE.day))\n",
        "    if Date.weekday() >= 5 or jpholiday.is_holiday(Date):\n",
        "        return 0\n",
        "    else:\n",
        "        return 1\n",
        "\n",
        "def n_bizdays_ago(n): #n営業日前を出す\n",
        "    today = datetime.datetime.now()\n",
        "    i = n\n",
        "    while True:\n",
        "        if isBizDay(today - timedelta(i)): #n日前が平日になるまで遡る\n",
        "            n_bizdays = today - timedelta(i)\n",
        "            break\n",
        "        else:\n",
        "            i+=1\n",
        "    return n_bizdays\n",
        "\n",
        "\n",
        "\n",
        "# print(today.strftime('%Y年%m月%D日 %H:%M:%S'))\n",
        "\n",
        "twodays_ago = n_bizdays_ago(2)\n",
        "#print(twodays_ago)\n",
        "yesterday = n_bizdays_ago(1)\n",
        "df2 = data.DataReader('9984.JP', 'stooq', twodays_ago, yesterday)\n",
        "df2\n",
        "print(df2['Close'][0]-df2['Close'][1])#１営業日前と２営業日前の差\n",
        "\n",
        "df3 = data.DataReader('8901.JP', 'stooq', twodays_ago, yesterday)\n",
        "df3\n",
        "\n",
        "def all_comStock_name():#証券コードとその株の前々日前日差の一覧を生成\n",
        "    meigara_ranklist = []#証券コードと前々日と前日の差のリスト\n",
        "    onedayAgo = n_bizdays_ago(1)#きのう（ただし＝１営業日前）\n",
        "    twodaysAgo = n_bizdays_ago(2)#おととい（ただし＝2営業日前）\n",
        "    for i in range(1000, 10000):\n",
        "        meigara = i\n",
        "        df = data.DataReader(meigara + '.JP', 'stooq', twodaysAgo, onedayAgo)\n",
        "        if len(df) > 0:\n",
        "            diff = df['Close'][0]-df['Close'][1]\n",
        "            meigara_ranklist.append([meigara, diff])\n",
        "\n",
        "def stock_diffRank_sorted(stock_difflist):\n",
        "    return sorted(stock_difflist, key=operator.itemgetter(1))#「[証券コード0, 差0], [証券コード1, 差1], ...」となっているうち各リスト内リストの1番目＝差を元にソート\n",
        "\n",
        "\n",
        "stock = all_comStock_name()\n",
        "stock = stock_diffRank_sorted(stock)\n",
        "stock_df = pd.DataFrame(stock, columns=['証券コード', '前営業日と前々営業日の終値差'])\n",
        "print(stock_df[0:19])\n",
        "\n"
      ]
    },
    {
      "cell_type": "code",
      "execution_count": 6,
      "metadata": {},
      "outputs": [
        {
          "name": "stdout",
          "output_type": "stream",
          "text": [
            "[1, [1, 2, 3]]\n",
            "3\n"
          ]
        }
      ],
      "source": [
        "a = []\n",
        "a.append(1)\n",
        "a.append([1,2,3])\n",
        "print(a)\n",
        "print(a[1][2])\n"
      ]
    }
  ],
  "metadata": {
    "colab": {
      "authorship_tag": "ABX9TyPjQvpzdTrQo21gWnU3EF3c",
      "include_colab_link": true,
      "provenance": []
    },
    "kernelspec": {
      "display_name": "Python 3",
      "name": "python3"
    },
    "language_info": {
      "codemirror_mode": {
        "name": "ipython",
        "version": 3
      },
      "file_extension": ".py",
      "mimetype": "text/x-python",
      "name": "python",
      "nbconvert_exporter": "python",
      "pygments_lexer": "ipython3",
      "version": "3.8.5"
    }
  },
  "nbformat": 4,
  "nbformat_minor": 0
}
